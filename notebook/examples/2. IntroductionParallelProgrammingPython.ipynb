{
 "cells": [
  {
   "cell_type": "markdown",
   "metadata": {},
   "source": [
    "# Introduction to parallel programming using Python"
   ]
  },
  {
   "cell_type": "markdown",
   "metadata": {},
   "source": [
    "For years, only a clock that measured in HZ was taken into account to determine the number of instructions that a processor could process within a given time interval.\n",
    "\n",
    "The longer the clock cycle, the more instructions will be executed. The cycles are measured in terms of KHz (thousands of operations per second), MHz (millions of operations per second) and the current GHz (billions of operations per second). **But the clock cycle can no longer be increased (Physically), so more cores must be created within the same processor.**\n",
    "\n",
    "\n",
    "\n",
    "\n",
    "\n",
    "![SegmentLocal](images/cpu.gif \"segment\")"
   ]
  },
  {
   "cell_type": "code",
   "execution_count": 3,
   "metadata": {},
   "outputs": [],
   "source": [
    "import warnings\n",
    "warnings.filterwarnings('ignore')\n",
    "import sys"
   ]
  },
  {
   "cell_type": "markdown",
   "metadata": {},
   "source": [
    "## 1. Serial Computing\n",
    "\n",
    "Source: https://computing.llnl.gov/tutorials/parallel_comp/\n",
    "\n",
    "Traditionally, software has been written for serial computation:\n",
    "\n",
    "- A problem is broken into a discrete series of instructions\n",
    "- Instructions are executed sequentially one after another\n",
    "- Executed on a single processor\n",
    "- Only one instruction may execute at any moment in time\n",
    "\n",
    "<img src=\"images/serialProblem.gif\" width=\"600\" align=\"middle\">\n",
    "\n"
   ]
  },
  {
   "cell_type": "markdown",
   "metadata": {},
   "source": [
    "# 2. Parallel Computing\n",
    "Source: https://computing.llnl.gov/tutorials/parallel_comp/\n",
    "\n",
    "In the simplest sense, parallel computing is the simultaneous use of multiple compute resources to solve a computational problem:\n",
    "\n",
    "- A problem is broken into discrete parts that can be solved concurrently\n",
    "- Each part is further broken down to a series of instructions\n",
    "- Instructions from each part execute simultaneously on different processors\n",
    "- An overall control/coordination mechanism is employed\n",
    "\n",
    "<img src=\"images/parallelProblem.gif\" width=\"600\" align=\"middle\">\n",
    "\n"
   ]
  },
  {
   "cell_type": "markdown",
   "metadata": {},
   "source": [
    "# 3. Parallel Programming in Python\n",
    "\n",
    "<img src=\"images/notparallel.png\" width=\"600\" align=\"middle\">\n",
    "\n",
    "### 3.1 Global interpreter Lock\n",
    "\n",
    "The mechanism that prevents the implementation in C of Python (which we will always refer to as CPython from now on) the execution of bytecode by several threads at once is called Global Interpreter Lock or GIL for short and has been and is a source of discussion and debate in the lists of mail of the developers of Python for a long time."
   ]
  },
  {
   "cell_type": "markdown",
   "metadata": {},
   "source": [
    "### 3.2 Multiprocessing\n",
    "\n",
    "**Pros**\n",
    "\n",
    "- Separate memory space\n",
    "- Code is usually straightforward\n",
    "- Takes advantage of multiple CPUs & cores\n",
    "- Avoids GIL limitations for cPython\n",
    "- Eliminates most needs for synchronization primitives unless if you use shared memory (instead, it's more of a communication model for IPC)\n",
    "- Child processes are interruptible/killable\n",
    "- Python multiprocessing module includes useful abstractions with an interface much like threading.Thread\n",
    "- A must with cPython for CPU-bound processing\n",
    "\n",
    "**Cons**\n",
    "\n",
    "- IPC a little more complicated with more overhead (communication model vs. shared memory/objects)\n",
    "- Larger memory footprint\n",
    "\n",
    "Source: https://stackoverflow.com/questions/3044580/multiprocessing-vs-threading-python"
   ]
  },
  {
   "cell_type": "code",
   "execution_count": 4,
   "metadata": {},
   "outputs": [
    {
     "data": {
      "text/plain": [
       "8"
      ]
     },
     "execution_count": 4,
     "metadata": {},
     "output_type": "execute_result"
    }
   ],
   "source": [
    "import multiprocessing\n",
    "import numpy as np\n",
    "multiprocessing.cpu_count()"
   ]
  },
  {
   "cell_type": "markdown",
   "metadata": {},
   "source": [
    "You have 4 physical cores, but 8 logical processors. Because in this case I have a processor with hyper-threading."
   ]
  },
  {
   "cell_type": "markdown",
   "metadata": {},
   "source": [
    "Serial function:"
   ]
  },
  {
   "cell_type": "code",
   "execution_count": 2,
   "metadata": {},
   "outputs": [
    {
     "name": "stdout",
     "output_type": "stream",
     "text": [
      "CPU times: user 760 µs, sys: 1.18 ms, total: 1.94 ms\n",
      "Wall time: 4.02 s\n"
     ]
    }
   ],
   "source": [
    "%%time\n",
    "#Sequential code\n",
    "from time import sleep\n",
    "\n",
    "resultado = []\n",
    "\n",
    "for i in range(4):\n",
    "    sleep(1)\n",
    "    resultado.append(i+1)"
   ]
  },
  {
   "cell_type": "markdown",
   "metadata": {},
   "source": [
    "Parallel function:"
   ]
  },
  {
   "cell_type": "code",
   "execution_count": 3,
   "metadata": {},
   "outputs": [
    {
     "name": "stdout",
     "output_type": "stream",
     "text": [
      "CPU times: user 19.2 ms, sys: 27.8 ms, total: 47 ms\n",
      "Wall time: 1.05 s\n"
     ]
    }
   ],
   "source": [
    "%%time\n",
    "\n",
    "from concurrent.futures import ProcessPoolExecutor\n",
    "e = ProcessPoolExecutor()\n",
    "\n",
    "def incrementar(x):\n",
    "    sleep(1)\n",
    "    return x + 1\n",
    "\n",
    "resultado = list(e.map(incrementar,range(4)))"
   ]
  },
  {
   "cell_type": "markdown",
   "metadata": {},
   "source": [
    "### Exercise: Create a parallel function that creates 20 CSV files with processes\n",
    "----\n",
    "\n",
    "Serial function that solves the problem:"
   ]
  },
  {
   "cell_type": "code",
   "execution_count": 4,
   "metadata": {},
   "outputs": [
    {
     "name": "stdout",
     "output_type": "stream",
     "text": [
      "CPU times: user 2.96 s, sys: 77.1 ms, total: 3.04 s\n",
      "Wall time: 3.06 s\n"
     ]
    }
   ],
   "source": [
    "%%time\n",
    "np.random.seed(123)\n",
    "x = np.random.poisson(20,(1000,1000))\n",
    "for i_ in range(0, 20):\n",
    "    np.savetxt('data_serial/x%06d.csv' % i_, x, delimiter=',', fmt='%d')"
   ]
  },
  {
   "cell_type": "markdown",
   "metadata": {},
   "source": [
    "**Create the parallel function that solves the problem:**"
   ]
  },
  {
   "cell_type": "code",
   "execution_count": 5,
   "metadata": {},
   "outputs": [],
   "source": [
    "#you code here ....."
   ]
  },
  {
   "cell_type": "markdown",
   "metadata": {},
   "source": [
    "### Referencias\n",
    "---\n",
    "\n",
    "https://github.com/rsnemmen/parallel-python-tutorial/blob/master/Parallel%20Computing%20with%20Python%20public.ipynb\n",
    "\n",
    "https://github.com/rsnemmen/parallel-python-tutorial\n",
    "\n",
    "https://github.com/dask/dask-tutorial\n",
    "\n",
    "https://docs.python.org/3/library/concurrent.futures.html"
   ]
  },
  {
   "cell_type": "markdown",
   "metadata": {},
   "source": [
    "### 3.3 Threading\n",
    "\n",
    "\n",
    "**Pros**\n",
    "\n",
    "- Lightweight - low memory footprint\n",
    "- Shared memory - makes access to state from another context easier\n",
    "- Allows you to easily make responsive UIs\n",
    "- cPython C extension modules that properly release the GIL will run in parallel\n",
    "- Great option for I/O-bound applications\n",
    "\n",
    "**Cons**\n",
    "\n",
    "- cPython - subject to the GIL\n",
    "- Not interruptible/killable\n",
    "- If not following a command queue/message pump model (using the Queue module), then manual use of synchronization primitives become a necessity (decisions are needed for the granularity of locking)\n",
    "- Code is usually harder to understand and to get right - the potential for race conditions increases dramatically\n",
    "\n",
    "Source: https://stackoverflow.com/questions/3044580/multiprocessing-vs-threading-python"
   ]
  },
  {
   "cell_type": "code",
   "execution_count": 2,
   "metadata": {},
   "outputs": [
    {
     "data": {
      "text/plain": [
       "False"
      ]
     },
     "execution_count": 2,
     "metadata": {},
     "output_type": "execute_result"
    }
   ],
   "source": [
    "'pyvo' in sys.modules"
   ]
  },
  {
   "cell_type": "markdown",
   "metadata": {},
   "source": [
    "If not True, then install PyVO:\n",
    "    \n",
    "!pip install pyvo"
   ]
  },
  {
   "cell_type": "code",
   "execution_count": 9,
   "metadata": {},
   "outputs": [],
   "source": [
    "import pyvo as vo\n",
    "service = vo.dal.TAPService(\"http://www.cadc-ccda.hia-iha.nrc-cnrc.gc.ca/tap\")"
   ]
  },
  {
   "cell_type": "code",
   "execution_count": null,
   "metadata": {},
   "outputs": [],
   "source": [
    "service.available"
   ]
  },
  {
   "cell_type": "code",
   "execution_count": 16,
   "metadata": {},
   "outputs": [],
   "source": [
    "import pyvo as vo\n",
    "import concurrent.futures\n",
    "import urllib.request\n",
    "from concurrent.futures import ThreadPoolExecutor"
   ]
  },
  {
   "cell_type": "code",
   "execution_count": 17,
   "metadata": {},
   "outputs": [],
   "source": [
    "URLS = ['http://reg.g-vo.org/tap',\n",
    "        'http://dc.g-vo.org/tap',\n",
    "        'http://dc.zah.uni-heidelberg.de/tap',\n",
    "       'https://vo.chivo.cl/tap']"
   ]
  },
  {
   "cell_type": "code",
   "execution_count": 18,
   "metadata": {},
   "outputs": [
    {
     "name": "stdout",
     "output_type": "stream",
     "text": [
      "Url = http://reg.g-vo.org/tap Disponible = TrueTimeup =2019-03-20T13:12:21Z\n",
      "Url = http://dc.g-vo.org/tap Disponible = TrueTimeup =2019-03-20T13:12:21Z\n",
      "Url = http://dc.zah.uni-heidelberg.de/tap Disponible = TrueTimeup =2019-03-20T13:12:21Z\n",
      "Url = https://vo.chivo.cl/tap Disponible = TrueTimeup =2018-12-23T16:53:15Z\n",
      "CPU times: user 29.4 ms, sys: 4.92 ms, total: 34.3 ms\n",
      "Wall time: 1.71 s\n"
     ]
    }
   ],
   "source": [
    "%%time\n",
    "for url in URLS:\n",
    "    service = vo.dal.TAPService(url)\n",
    "    print(\"Url = \"+url+\" Disponible = \"+str(service.available)+\"Timeup =\"+str(service.up_since))"
   ]
  },
  {
   "cell_type": "code",
   "execution_count": 19,
   "metadata": {},
   "outputs": [],
   "source": [
    "def vo_tap(url):\n",
    "    service = vo.dal.TAPService(url)\n",
    "    print(\"Url = \"+url+\" Disponible = \"+str(service.available)+\"Timeup =\"+str(service.up_since))\n",
    "    return(service.available)"
   ]
  },
  {
   "cell_type": "code",
   "execution_count": 20,
   "metadata": {},
   "outputs": [
    {
     "name": "stdout",
     "output_type": "stream",
     "text": [
      "Url = https://vo.chivo.cl/tap Disponible = TrueTimeup =2018-12-23T16:53:15Z\n",
      "Url = http://reg.g-vo.org/tap Disponible = TrueTimeup =2019-03-20T13:12:21Z\n",
      "Url = http://dc.g-vo.org/tap Disponible = TrueTimeup =2019-03-20T13:12:21Z\n",
      "Url = http://dc.zah.uni-heidelberg.de/tap Disponible = TrueTimeup =2019-03-20T13:12:21Z\n",
      "CPU times: user 27 ms, sys: 5.07 ms, total: 32.1 ms\n",
      "Wall time: 1.73 s\n"
     ]
    }
   ],
   "source": [
    "%%time\n",
    "executor = ThreadPoolExecutor(max_workers=5)\n",
    "\n",
    "task1 = executor.submit(vo_tap(\"https://vo.chivo.cl/tap\"))\n",
    "task2 = executor.submit(vo_tap(\"http://reg.g-vo.org/tap\"))\n",
    "task3 = executor.submit(vo_tap(\"http://dc.g-vo.org/tap\"))\n",
    "task4 = executor.submit(vo_tap(\"http://dc.zah.uni-heidelberg.de/tap\"))"
   ]
  },
  {
   "cell_type": "code",
   "execution_count": 21,
   "metadata": {},
   "outputs": [
    {
     "name": "stdout",
     "output_type": "stream",
     "text": [
      "Url = https://vo.chivo.cl/tap Disponible = TrueTimeup =2018-12-23T16:53:15Z\n",
      "Url = http://dc.g-vo.org/tap Disponible = TrueTimeup =2019-03-20T13:12:21Z\n",
      "Url = http://dc.zah.uni-heidelberg.de/tap Disponible = TrueTimeup =2019-03-20T13:12:21Z\n",
      "Url = http://reg.g-vo.org/tap Disponible = TrueTimeup =2019-03-20T13:12:21Z\n",
      "CPU times: user 28 ms, sys: 6.04 ms, total: 34 ms\n",
      "Wall time: 573 ms\n"
     ]
    }
   ],
   "source": [
    "%%time\n",
    "future_to_url = {executor.submit(vo_tap, url): url for url in URLS}\n",
    "for future in concurrent.futures.as_completed(future_to_url):\n",
    "        url = future_to_url[future]"
   ]
  },
  {
   "cell_type": "markdown",
   "metadata": {},
   "source": [
    "### Referencias\n",
    "---\n",
    "\n",
    "https://github.com/rsnemmen/parallel-python-tutorial/blob/master/Parallel%20Computing%20with%20Python%20public.ipynb\n",
    "\n",
    "https://github.com/rsnemmen/parallel-python-tutorial\n",
    "\n",
    "https://github.com/dask/dask-tutorial\n",
    "\n",
    "https://docs.python.org/3/library/concurrent.futures.html"
   ]
  },
  {
   "cell_type": "markdown",
   "metadata": {},
   "source": [
    "# ipyaladin\n",
    "\n",
    "A bridge between Jupyter and Aladin Lite, enabling interactive sky visualization in IPython notebooks.\n",
    "\n",
    "Source : https://github.com/cds-astro/ipyaladin"
   ]
  },
  {
   "cell_type": "code",
   "execution_count": 11,
   "metadata": {},
   "outputs": [
    {
     "data": {
      "text/plain": [
       "True"
      ]
     },
     "execution_count": 11,
     "metadata": {},
     "output_type": "execute_result"
    }
   ],
   "source": [
    "'ipyaladin' in sys.modules\n",
    "'astroquery' in sys.modules"
   ]
  },
  {
   "cell_type": "markdown",
   "metadata": {},
   "source": [
    "If not True, then install ipyaladin:\n",
    "    \n",
    "!pip install ipyaladin"
   ]
  },
  {
   "cell_type": "markdown",
   "metadata": {},
   "source": [
    "If not True, then install astroquery:\n",
    "    \n",
    "!pip install --pre astroquery"
   ]
  },
  {
   "cell_type": "markdown",
   "metadata": {},
   "source": [
    "Then, make sure to enable widgetsnbextension and ipyaladin:"
   ]
  },
  {
   "cell_type": "code",
   "execution_count": 22,
   "metadata": {},
   "outputs": [
    {
     "name": "stdout",
     "output_type": "stream",
     "text": [
      "Enabling notebook extension jupyter-js-widgets/extension...\r\n",
      "      - Validating: \u001b[32mOK\u001b[0m\r\n"
     ]
    }
   ],
   "source": [
    "!jupyter nbextension enable --py widgetsnbextension"
   ]
  },
  {
   "cell_type": "code",
   "execution_count": 23,
   "metadata": {},
   "outputs": [
    {
     "name": "stdout",
     "output_type": "stream",
     "text": [
      "Enabling notebook extension ipyaladin/extension...\n",
      "      - Validating: \u001b[32mOK\u001b[0m\n"
     ]
    }
   ],
   "source": [
    "!jupyter nbextension enable --py --sys-prefix ipyaladin"
   ]
  },
  {
   "cell_type": "code",
   "execution_count": 5,
   "metadata": {},
   "outputs": [],
   "source": [
    "import ipyaladin as ipyal\n",
    "from astroquery.simbad import Simbad\n",
    "import astropy.units as u"
   ]
  },
  {
   "cell_type": "code",
   "execution_count": 6,
   "metadata": {},
   "outputs": [],
   "source": [
    "Simbad.SIMBAD_URL = 'http://simbad.harvard.edu/simbad/sim-script'"
   ]
  },
  {
   "cell_type": "code",
   "execution_count": 9,
   "metadata": {},
   "outputs": [
    {
     "data": {
      "application/vnd.jupyter.widget-view+json": {
       "model_id": "5f40548ba367417281cb54a58ab99f1d",
       "version_major": 2,
       "version_minor": 0
      },
      "text/plain": [
       "Aladin(fov=0.45, options=['allow_full_zoomout', 'coo_frame', 'fov', 'full_screen', 'log', 'overlay_survey', 'o…"
      ]
     },
     "metadata": {},
     "output_type": "display_data"
    }
   ],
   "source": [
    "aladin1 = ipyal.Aladin(fov= 0.45, target= 'NGC4782')#m82 NGC4782 m1\n",
    "aladin1"
   ]
  },
  {
   "cell_type": "code",
   "execution_count": 10,
   "metadata": {},
   "outputs": [
    {
     "data": {
      "text/plain": [
       "NoneType"
      ]
     },
     "execution_count": 10,
     "metadata": {},
     "output_type": "execute_result"
    }
   ],
   "source": [
    "table1 = Simbad.query_region(\"NGC4782\", radius=0.04 * u.deg)\n",
    "type(table1)"
   ]
  },
  {
   "cell_type": "code",
   "execution_count": null,
   "metadata": {},
   "outputs": [],
   "source": []
  }
 ],
 "metadata": {
  "kernelspec": {
   "display_name": "Python 3",
   "language": "python",
   "name": "python3"
  },
  "language_info": {
   "codemirror_mode": {
    "name": "ipython",
    "version": 3
   },
   "file_extension": ".py",
   "mimetype": "text/x-python",
   "name": "python",
   "nbconvert_exporter": "python",
   "pygments_lexer": "ipython3",
   "version": "3.7.2"
  }
 },
 "nbformat": 4,
 "nbformat_minor": 2
}
