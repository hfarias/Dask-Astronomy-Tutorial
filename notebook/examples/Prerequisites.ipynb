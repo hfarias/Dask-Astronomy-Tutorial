{
 "cells": [
  {
   "cell_type": "markdown",
   "metadata": {},
   "source": [
    "### Install"
   ]
  },
  {
   "cell_type": "code",
   "execution_count": 1,
   "metadata": {},
   "outputs": [
    {
     "name": "stdout",
     "output_type": "stream",
     "text": [
      "Collecting matplotlib\n",
      "\u001b[?25l  Downloading https://files.pythonhosted.org/packages/83/2a/e47bbd9396af32376863a426baed62d9bf3091f81defd1fe81c5f33b11a3/matplotlib-3.0.3-cp37-cp37m-manylinux1_x86_64.whl (13.0MB)\n",
      "\u001b[K    100% |████████████████████████████████| 13.0MB 1.3MB/s \n",
      "\u001b[?25hCollecting cycler>=0.10 (from matplotlib)\n",
      "  Downloading https://files.pythonhosted.org/packages/f7/d2/e07d3ebb2bd7af696440ce7e754c59dd546ffe1bbe732c8ab68b9c834e61/cycler-0.10.0-py2.py3-none-any.whl\n",
      "Requirement already satisfied: python-dateutil>=2.1 in /opt/conda/lib/python3.7/site-packages (from matplotlib) (2.8.0)\n",
      "Requirement already satisfied: pyparsing!=2.0.4,!=2.1.2,!=2.1.6,>=2.0.1 in /opt/conda/lib/python3.7/site-packages (from matplotlib) (2.3.1)\n",
      "Collecting kiwisolver>=1.0.1 (from matplotlib)\n",
      "\u001b[?25l  Downloading https://files.pythonhosted.org/packages/5c/7e/d6cae2f241ba474a2665f24b480bf4e247036d63939dda2bbc4d2ee5069d/kiwisolver-1.0.1-cp37-cp37m-manylinux1_x86_64.whl (89kB)\n",
      "\u001b[K    100% |████████████████████████████████| 92kB 5.0MB/s \n",
      "\u001b[?25hRequirement already satisfied: numpy>=1.10.0 in /opt/conda/lib/python3.7/site-packages (from matplotlib) (1.16.0)\n",
      "Requirement already satisfied: six in /opt/conda/lib/python3.7/site-packages (from cycler>=0.10->matplotlib) (1.12.0)\n",
      "Requirement already satisfied: setuptools in /opt/conda/lib/python3.7/site-packages (from kiwisolver>=1.0.1->matplotlib) (40.8.0)\n",
      "Installing collected packages: cycler, kiwisolver, matplotlib\n",
      "Successfully installed cycler-0.10.0 kiwisolver-1.0.1 matplotlib-3.0.3\n"
     ]
    }
   ],
   "source": [
    "!pip install matplotlib"
   ]
  },
  {
   "cell_type": "code",
   "execution_count": 3,
   "metadata": {},
   "outputs": [
    {
     "name": "stdout",
     "output_type": "stream",
     "text": [
      "Collecting scipy\n",
      "\u001b[?25l  Downloading https://files.pythonhosted.org/packages/3e/7e/5cee36eee5b3194687232f6150a89a38f784883c612db7f4da2ab190980d/scipy-1.2.1-cp37-cp37m-manylinux1_x86_64.whl (24.8MB)\n",
      "\u001b[K    100% |████████████████████████████████| 24.8MB 722kB/s \n",
      "\u001b[?25hRequirement already satisfied: numpy>=1.8.2 in /opt/conda/lib/python3.7/site-packages (from scipy) (1.16.0)\n",
      "Installing collected packages: scipy\n",
      "Successfully installed scipy-1.2.1\n"
     ]
    }
   ],
   "source": [
    "!pip install scipy"
   ]
  },
  {
   "cell_type": "code",
   "execution_count": 4,
   "metadata": {},
   "outputs": [
    {
     "name": "stdout",
     "output_type": "stream",
     "text": [
      "Collecting sdss-marvin\n",
      "\u001b[?25l  Downloading https://files.pythonhosted.org/packages/6a/6b/86d97bf2f3474c316655279d254cdfa80e9fff8395025a60ad1571f85a31/sdss_marvin-2.3.2-py2.py3-none-any.whl (930kB)\n",
      "\u001b[K    100% |████████████████████████████████| 931kB 976kB/s \n",
      "\u001b[?25hRequirement already satisfied: SQLAlchemy>=1.1.15 in /opt/conda/lib/python3.7/site-packages (from sdss-marvin) (1.3.1)\n",
      "Requirement already satisfied: numpy>=1.11.2 in /opt/conda/lib/python3.7/site-packages (from sdss-marvin) (1.16.0)\n",
      "Requirement already satisfied: matplotlib>=1.5.3 in /opt/conda/lib/python3.7/site-packages (from sdss-marvin) (3.0.3)\n",
      "Requirement already satisfied: requests>=2.10.0 in /opt/conda/lib/python3.7/site-packages (from sdss-marvin) (2.21.0)\n",
      "Collecting dogpile.cache>=0.6.2 (from sdss-marvin)\n",
      "\u001b[?25l  Downloading https://files.pythonhosted.org/packages/84/3e/dbf1cfc5228f1d3dca80ef714db2c5aaec5cd9efaf54d7e3daef6bc48b19/dogpile.cache-0.7.1.tar.gz (326kB)\n",
      "\u001b[K    100% |████████████████████████████████| 327kB 980kB/s \n",
      "\u001b[?25hCollecting Flask<1.0,>=0.12.1 (from sdss-marvin)\n",
      "\u001b[?25l  Downloading https://files.pythonhosted.org/packages/2e/48/f1936dadac2326b3d73f2fe0a964a87d16be16eb9d7fc56f09c1bea3d17c/Flask-0.12.4-py2.py3-none-any.whl (81kB)\n",
      "\u001b[K    100% |████████████████████████████████| 81kB 663kB/s \n",
      "\u001b[?25hCollecting WTForms>=2.1 (from sdss-marvin)\n",
      "\u001b[?25l  Downloading https://files.pythonhosted.org/packages/9f/c8/dac5dce9908df1d9d48ec0e26e2a250839fa36ea2c602cc4f85ccfeb5c65/WTForms-2.2.1-py2.py3-none-any.whl (166kB)\n",
      "\u001b[K    100% |████████████████████████████████| 174kB 964kB/s \n",
      "\u001b[?25hCollecting networkx>=1.11 (from sdss-marvin)\n",
      "\u001b[?25l  Downloading https://files.pythonhosted.org/packages/f3/f4/7e20ef40b118478191cec0b58c3192f822cace858c19505c7670961b76b2/networkx-2.2.zip (1.7MB)\n",
      "\u001b[K    100% |████████████████████████████████| 1.7MB 979kB/s \n",
      "\u001b[?25hRequirement already satisfied: scipy>=0.18.1 in /opt/conda/lib/python3.7/site-packages (from sdss-marvin) (1.2.1)\n",
      "Collecting raven>=5.32.0 (from sdss-marvin)\n",
      "\u001b[?25l  Downloading https://files.pythonhosted.org/packages/bd/8e/62e26a88c0a1bbae677200baf0767c1022321a6555634f8129e6d55c5ddc/raven-6.10.0-py2.py3-none-any.whl (284kB)\n",
      "\u001b[K    100% |████████████████████████████████| 286kB 921kB/s \n",
      "\u001b[?25hCollecting yamlordereddictloader>=0.2.2 (from sdss-marvin)\n",
      "  Downloading https://files.pythonhosted.org/packages/56/e1/1ca77da64cc355f0de483095e841d96f2366f93b095b83869440a296c21d/yamlordereddictloader-0.4.0.tar.gz\n",
      "Collecting Flask-JWT-Extended>=3.8.1 (from sdss-marvin)\n",
      "  Downloading https://files.pythonhosted.org/packages/5e/21/cc36a871417b1961775065c4cb13e42f23804b5b676b3c907ee33fd0e40d/Flask-JWT-Extended-3.18.0.tar.gz\n",
      "Requirement already satisfied: astropy>=2.0.4 in /opt/conda/lib/python3.7/site-packages (from sdss-marvin) (3.1.2)\n",
      "Requirement already satisfied: ipython>=5.0.0 in /opt/conda/lib/python3.7/site-packages (from sdss-marvin) (7.3.0)\n",
      "Collecting future>=0.16.0 (from sdss-marvin)\n",
      "\u001b[?25l  Downloading https://files.pythonhosted.org/packages/90/52/e20466b85000a181e1e144fd8305caf2cf475e2f9674e797b222f8105f5f/future-0.17.1.tar.gz (829kB)\n",
      "\u001b[K    100% |████████████████████████████████| 829kB 677kB/s \n",
      "\u001b[?25hCollecting fuzzywuzzy>=0.15.0 (from sdss-marvin)\n",
      "  Downloading https://files.pythonhosted.org/packages/d8/f1/5a267addb30ab7eaa1beab2b9323073815da4551076554ecc890a3595ec9/fuzzywuzzy-0.17.0-py2.py3-none-any.whl\n",
      "Collecting requests-futures>=0.9.7 (from sdss-marvin)\n",
      "  Downloading https://files.pythonhosted.org/packages/e5/6b/c29ba0ce8d7d981c8099550148755846476c551f9e413801c0981f63ea91/requests-futures-0.9.9.tar.gz\n",
      "Collecting Flask-Classy>=0.6.10 (from sdss-marvin)\n",
      "  Downloading https://files.pythonhosted.org/packages/92/07/bbe7a8aefd8799fc456f711b86952457b3e63c8aec9dfd4c911c55df9ea7/Flask-Classy-0.6.10.tar.gz\n",
      "Collecting WTForms-Components>=0.10.0 (from sdss-marvin)\n",
      "  Downloading https://files.pythonhosted.org/packages/d7/8b/58aefb4858eb0f5335a1a0a85440fbf60e696671010bc45bbf45b904797f/WTForms-Components-0.10.3.tar.gz\n",
      "Collecting python-Levenshtein>=0.12.0 (from sdss-marvin)\n",
      "\u001b[?25l  Downloading https://files.pythonhosted.org/packages/42/a9/d1785c85ebf9b7dfacd08938dd028209c34a0ea3b1bcdb895208bd40a67d/python-Levenshtein-0.12.0.tar.gz (48kB)\n",
      "\u001b[K    100% |████████████████████████████████| 51kB 2.2MB/s \n",
      "\u001b[?25hCollecting SQLAlchemy-Utils>=0.32.9 (from sdss-marvin)\n",
      "\u001b[?25l  Downloading https://files.pythonhosted.org/packages/fe/8b/a68f81076e9a2729675253228f43986914f0510078c86f14f6cd51dd3f01/SQLAlchemy-Utils-0.33.11.tar.gz (128kB)\n",
      "\u001b[K    100% |████████████████████████████████| 133kB 909kB/s \n",
      "\u001b[?25hCollecting passlib>=1.7.1 (from sdss-marvin)\n",
      "\u001b[?25l  Downloading https://files.pythonhosted.org/packages/ee/a7/d6d238d927df355d4e4e000670342ca4705a72f0bf694027cf67d9bcf5af/passlib-1.7.1-py2.py3-none-any.whl (498kB)\n",
      "\u001b[K    100% |████████████████████████████████| 501kB 1.3MB/s \n",
      "\u001b[?25hRequirement already satisfied: pandas>=0.18.1 in /opt/conda/lib/python3.7/site-packages (from sdss-marvin) (0.24.0)\n",
      "Requirement already satisfied: Pillow>=3.3.1 in /opt/conda/lib/python3.7/site-packages (from sdss-marvin) (5.4.1)\n",
      "Collecting Flask-Classful>=0.14.1 (from sdss-marvin)\n",
      "  Downloading https://files.pythonhosted.org/packages/7e/cd/2df31c1590db0a95da08e9bdbc9db8b2efd0272e5d5677929a4a73b87e46/Flask_Classful-0.14.2-py2.py3-none-any.whl\n",
      "Collecting webargs>=1.5.2 (from sdss-marvin)\n",
      "  Downloading https://files.pythonhosted.org/packages/c8/ba/27d2e9b887e7f522951f87a9b3cc8c2e6fc9731fae95aa7452ae543976b1/webargs-5.2.0-py3-none-any.whl\n",
      "Requirement already satisfied: pyparsing!=2.0.4,!=2.1.2,!=2.1.6,>=2.0.1 in /opt/conda/lib/python3.7/site-packages (from matplotlib>=1.5.3->sdss-marvin) (2.3.1)\n",
      "Requirement already satisfied: cycler>=0.10 in /opt/conda/lib/python3.7/site-packages (from matplotlib>=1.5.3->sdss-marvin) (0.10.0)\n",
      "Requirement already satisfied: kiwisolver>=1.0.1 in /opt/conda/lib/python3.7/site-packages (from matplotlib>=1.5.3->sdss-marvin) (1.0.1)\n",
      "Requirement already satisfied: python-dateutil>=2.1 in /opt/conda/lib/python3.7/site-packages (from matplotlib>=1.5.3->sdss-marvin) (2.8.0)\n",
      "Requirement already satisfied: chardet<3.1.0,>=3.0.2 in /opt/conda/lib/python3.7/site-packages (from requests>=2.10.0->sdss-marvin) (3.0.4)\n",
      "Requirement already satisfied: certifi>=2017.4.17 in /opt/conda/lib/python3.7/site-packages (from requests>=2.10.0->sdss-marvin) (2019.3.9)\n",
      "Requirement already satisfied: idna<2.9,>=2.5 in /opt/conda/lib/python3.7/site-packages (from requests>=2.10.0->sdss-marvin) (2.8)\n",
      "Requirement already satisfied: urllib3<1.25,>=1.21.1 in /opt/conda/lib/python3.7/site-packages (from requests>=2.10.0->sdss-marvin) (1.24.1)\n",
      "Requirement already satisfied: decorator in /opt/conda/lib/python3.7/site-packages (from dogpile.cache>=0.6.2->sdss-marvin) (4.3.2)\n",
      "Requirement already satisfied: Jinja2>=2.4 in /opt/conda/lib/python3.7/site-packages (from Flask<1.0,>=0.12.1->sdss-marvin) (2.10)\n",
      "Collecting itsdangerous>=0.21 (from Flask<1.0,>=0.12.1->sdss-marvin)\n",
      "  Downloading https://files.pythonhosted.org/packages/76/ae/44b03b253d6fade317f32c24d100b3b35c2239807046a4c953c7b89fa49e/itsdangerous-1.1.0-py2.py3-none-any.whl\n",
      "Requirement already satisfied: click>=2.0 in /opt/conda/lib/python3.7/site-packages (from Flask<1.0,>=0.12.1->sdss-marvin) (7.0)\n",
      "Collecting Werkzeug>=0.7 (from Flask<1.0,>=0.12.1->sdss-marvin)\n",
      "\u001b[?25l  Downloading https://files.pythonhosted.org/packages/24/4d/2fc4e872fbaaf44cc3fd5a9cd42fda7e57c031f08e28c9f35689e8b43198/Werkzeug-0.15.1-py2.py3-none-any.whl (328kB)\n",
      "\u001b[K    100% |████████████████████████████████| 337kB 1.1MB/s \n",
      "\u001b[?25hRequirement already satisfied: pyyaml in /opt/conda/lib/python3.7/site-packages (from yamlordereddictloader>=0.2.2->sdss-marvin) (5.1)\n",
      "Collecting PyJWT (from Flask-JWT-Extended>=3.8.1->sdss-marvin)\n",
      "  Downloading https://files.pythonhosted.org/packages/87/8b/6a9f14b5f781697e51259d81657e6048fd31a113229cf346880bb7545565/PyJWT-1.7.1-py2.py3-none-any.whl\n",
      "Requirement already satisfied: six in /opt/conda/lib/python3.7/site-packages (from Flask-JWT-Extended>=3.8.1->sdss-marvin) (1.12.0)\n",
      "Requirement already satisfied: setuptools>=18.5 in /opt/conda/lib/python3.7/site-packages (from ipython>=5.0.0->sdss-marvin) (40.8.0)\n",
      "Requirement already satisfied: jedi>=0.10 in /opt/conda/lib/python3.7/site-packages (from ipython>=5.0.0->sdss-marvin) (0.13.3)\n",
      "Requirement already satisfied: pickleshare in /opt/conda/lib/python3.7/site-packages (from ipython>=5.0.0->sdss-marvin) (0.7.5)\n",
      "Requirement already satisfied: traitlets>=4.2 in /opt/conda/lib/python3.7/site-packages (from ipython>=5.0.0->sdss-marvin) (4.3.2)\n",
      "Requirement already satisfied: prompt_toolkit<2.1.0,>=2.0.0 in /opt/conda/lib/python3.7/site-packages (from ipython>=5.0.0->sdss-marvin) (2.0.9)\n",
      "Requirement already satisfied: pygments in /opt/conda/lib/python3.7/site-packages (from ipython>=5.0.0->sdss-marvin) (2.3.1)\n",
      "Requirement already satisfied: backcall in /opt/conda/lib/python3.7/site-packages (from ipython>=5.0.0->sdss-marvin) (0.1.0)\n",
      "Requirement already satisfied: pexpect in /opt/conda/lib/python3.7/site-packages (from ipython>=5.0.0->sdss-marvin) (4.6.0)\n",
      "Collecting validators>=0.5.0 (from WTForms-Components>=0.10.0->sdss-marvin)\n",
      "  Downloading https://files.pythonhosted.org/packages/70/c3/8f1f923c4ea9c620d0501073d6e2c829db09b717c8b1f3036d6455af3832/validators-0.12.4.tar.gz\n",
      "Collecting intervals>=0.6.0 (from WTForms-Components>=0.10.0->sdss-marvin)\n",
      "  Downloading https://files.pythonhosted.org/packages/70/38/d539ae3516cdc4716acbb121226fa3b6bd322e6cf2acb9d35c68536b28e2/intervals-0.8.1.tar.gz\n",
      "Requirement already satisfied: pytz>=2011k in /opt/conda/lib/python3.7/site-packages (from pandas>=0.18.1->sdss-marvin) (2018.9)\n",
      "Collecting marshmallow>=2.15.2 (from webargs>=1.5.2->sdss-marvin)\n",
      "\u001b[?25l  Downloading https://files.pythonhosted.org/packages/77/a3/4a9bf148dbe336ad068cc413f3683f9c275ea31f94ec05d19ea75f580b7b/marshmallow-2.19.1-py2.py3-none-any.whl (49kB)\n",
      "\u001b[K    100% |████████████████████████████████| 51kB 1.3MB/s \n",
      "\u001b[?25hRequirement already satisfied: MarkupSafe>=0.23 in /opt/conda/lib/python3.7/site-packages (from Jinja2>=2.4->Flask<1.0,>=0.12.1->sdss-marvin) (1.1.1)\n",
      "Requirement already satisfied: parso>=0.3.0 in /opt/conda/lib/python3.7/site-packages (from jedi>=0.10->ipython>=5.0.0->sdss-marvin) (0.3.4)\n",
      "Requirement already satisfied: ipython_genutils in /opt/conda/lib/python3.7/site-packages (from traitlets>=4.2->ipython>=5.0.0->sdss-marvin) (0.2.0)\n",
      "Requirement already satisfied: wcwidth in /opt/conda/lib/python3.7/site-packages (from prompt_toolkit<2.1.0,>=2.0.0->ipython>=5.0.0->sdss-marvin) (0.1.7)\n",
      "Requirement already satisfied: ptyprocess>=0.5 in /opt/conda/lib/python3.7/site-packages (from pexpect->ipython>=5.0.0->sdss-marvin) (0.6.0)\n",
      "Collecting infinity>=0.1.3 (from intervals>=0.6.0->WTForms-Components>=0.10.0->sdss-marvin)\n",
      "  Downloading https://files.pythonhosted.org/packages/6d/cf/9d301cb8963e5e391da214ee2cedf20cfa7c958e76ea3e577fc77f3eaae0/infinity-1.4.tar.gz\n",
      "Building wheels for collected packages: dogpile.cache, networkx, yamlordereddictloader, Flask-JWT-Extended, future, requests-futures, Flask-Classy, WTForms-Components, python-Levenshtein, SQLAlchemy-Utils, validators, intervals, infinity\n",
      "  Building wheel for dogpile.cache (setup.py) ... \u001b[?25ldone\n",
      "\u001b[?25h  Stored in directory: /home/jovyan/.cache/pip/wheels/6b/80/a0/87d93729f5cac879a2561ef73cf8036940787bd5734a0f2b82\n",
      "  Building wheel for networkx (setup.py) ... \u001b[?25ldone\n",
      "\u001b[?25h  Stored in directory: /home/jovyan/.cache/pip/wheels/68/f8/29/b53346a112a07d30a5a84d53f19aeadaa1a474897c0423af91\n",
      "  Building wheel for yamlordereddictloader (setup.py) ... \u001b[?25ldone\n",
      "\u001b[?25h  Stored in directory: /home/jovyan/.cache/pip/wheels/cf/bd/88/1f973a38d0574e639260c1f381b04435213bf48076a0f495e8\n",
      "  Building wheel for Flask-JWT-Extended (setup.py) ... \u001b[?25ldone\n",
      "\u001b[?25h  Stored in directory: /home/jovyan/.cache/pip/wheels/1a/f1/f8/b114217f463d6092433ce2a4bec7ae917855a4f5bee7b4a796\n",
      "  Building wheel for future (setup.py) ... \u001b[?25ldone\n",
      "\u001b[?25h  Stored in directory: /home/jovyan/.cache/pip/wheels/0c/61/d2/d6b7317325828fbb39ee6ad559dbe4664d0896da4721bf379e\n",
      "  Building wheel for requests-futures (setup.py) ... \u001b[?25ldone\n",
      "\u001b[?25h  Stored in directory: /home/jovyan/.cache/pip/wheels/2e/26/54/4db8d49fe5756e7a4c98fce36c5ea38a409f79c1d3f50f844a\n",
      "  Building wheel for Flask-Classy (setup.py) ... \u001b[?25ldone\n",
      "\u001b[?25h  Stored in directory: /home/jovyan/.cache/pip/wheels/59/32/14/e2171b5c8d865d66dc65597bffbdf489fa263c7ed7692c7d44\n",
      "  Building wheel for WTForms-Components (setup.py) ... \u001b[?25ldone\n",
      "\u001b[?25h  Stored in directory: /home/jovyan/.cache/pip/wheels/72/55/69/903ce4985ec337b4968699dac9eb03d8469df204fe72fbfc51\n",
      "  Building wheel for python-Levenshtein (setup.py) ... \u001b[?25ldone\n",
      "\u001b[?25h  Stored in directory: /home/jovyan/.cache/pip/wheels/de/c2/93/660fd5f7559049268ad2dc6d81c4e39e9e36518766eaf7e342\n",
      "  Building wheel for SQLAlchemy-Utils (setup.py) ... \u001b[?25ldone\n",
      "\u001b[?25h  Stored in directory: /home/jovyan/.cache/pip/wheels/f6/6d/bc/61e4bcee3fa17541302eede4ccd65dd88c9d38a0cf726a7931\n",
      "  Building wheel for validators (setup.py) ... \u001b[?25ldone\n",
      "\u001b[?25h  Stored in directory: /home/jovyan/.cache/pip/wheels/6c/aa/81/0ee6b1a0d69ab3db36228d3e621691710a13ed9bb072b6e565\n",
      "  Building wheel for intervals (setup.py) ... \u001b[?25ldone\n",
      "\u001b[?25h  Stored in directory: /home/jovyan/.cache/pip/wheels/44/6b/83/ca6f7ec6d6ef932a42a30a175f91ded52f98d68e7ee10a7e51\n",
      "  Building wheel for infinity (setup.py) ... \u001b[?25ldone\n",
      "\u001b[?25h  Stored in directory: /home/jovyan/.cache/pip/wheels/b9/7a/91/cf9903933d1788bd68870c9b3d3b114909eb574f7f8c4b9a68\n",
      "Successfully built dogpile.cache networkx yamlordereddictloader Flask-JWT-Extended future requests-futures Flask-Classy WTForms-Components python-Levenshtein SQLAlchemy-Utils validators intervals infinity\n",
      "Installing collected packages: dogpile.cache, itsdangerous, Werkzeug, Flask, WTForms, networkx, raven, yamlordereddictloader, PyJWT, Flask-JWT-Extended, future, fuzzywuzzy, requests-futures, Flask-Classy, validators, infinity, intervals, WTForms-Components, python-Levenshtein, SQLAlchemy-Utils, passlib, Flask-Classful, marshmallow, webargs, sdss-marvin\n",
      "Successfully installed Flask-0.12.4 Flask-Classful-0.14.2 Flask-Classy-0.6.10 Flask-JWT-Extended-3.18.0 PyJWT-1.7.1 SQLAlchemy-Utils-0.33.11 WTForms-2.2.1 WTForms-Components-0.10.3 Werkzeug-0.15.1 dogpile.cache-0.7.1 future-0.17.1 fuzzywuzzy-0.17.0 infinity-1.4 intervals-0.8.1 itsdangerous-1.1.0 marshmallow-2.19.1 networkx-2.2 passlib-1.7.1 python-Levenshtein-0.12.0 raven-6.10.0 requests-futures-0.9.9 sdss-marvin-2.3.2 validators-0.12.4 webargs-5.2.0 yamlordereddictloader-0.4.0\n"
     ]
    }
   ],
   "source": [
    "!pip install sdss-marvin"
   ]
  },
  {
   "cell_type": "code",
   "execution_count": 5,
   "metadata": {},
   "outputs": [
    {
     "name": "stdout",
     "output_type": "stream",
     "text": [
      "Collecting pyvo\n",
      "\u001b[?25l  Downloading https://files.pythonhosted.org/packages/fb/96/eaf0d6070b5d4b947e733e3b792ca14af5ef4bbef67da6558c73c73ddeaf/pyvo-0.9.2.tar.gz (2.2MB)\n",
      "\u001b[K    100% |████████████████████████████████| 2.2MB 1.3MB/s \n",
      "\u001b[?25hRequirement already satisfied: astropy in /opt/conda/lib/python3.7/site-packages (from pyvo) (3.1.2)\n",
      "Requirement already satisfied: requests in /opt/conda/lib/python3.7/site-packages (from pyvo) (2.21.0)\n",
      "Requirement already satisfied: numpy>=1.13.0 in /opt/conda/lib/python3.7/site-packages (from astropy->pyvo) (1.16.0)\n",
      "Requirement already satisfied: idna<2.9,>=2.5 in /opt/conda/lib/python3.7/site-packages (from requests->pyvo) (2.8)\n",
      "Requirement already satisfied: certifi>=2017.4.17 in /opt/conda/lib/python3.7/site-packages (from requests->pyvo) (2019.3.9)\n",
      "Requirement already satisfied: urllib3<1.25,>=1.21.1 in /opt/conda/lib/python3.7/site-packages (from requests->pyvo) (1.24.1)\n",
      "Requirement already satisfied: chardet<3.1.0,>=3.0.2 in /opt/conda/lib/python3.7/site-packages (from requests->pyvo) (3.0.4)\n",
      "Building wheels for collected packages: pyvo\n",
      "  Building wheel for pyvo (setup.py) ... \u001b[?25ldone\n",
      "\u001b[?25h  Stored in directory: /home/jovyan/.cache/pip/wheels/93/a6/bd/d765eba3c1ff5b6af21b4f49228c660fbee358062bff5c7245\n",
      "Successfully built pyvo\n",
      "Installing collected packages: pyvo\n",
      "Successfully installed pyvo-0.9.2\n"
     ]
    }
   ],
   "source": [
    "!pip install pyvo"
   ]
  },
  {
   "cell_type": "code",
   "execution_count": 6,
   "metadata": {},
   "outputs": [
    {
     "name": "stdout",
     "output_type": "stream",
     "text": [
      "Collecting ipyaladin\n",
      "\u001b[?25l  Downloading https://files.pythonhosted.org/packages/06/b1/d5f023255e8d60dc7971fb632f03793320a3e4a249c3ca1ab44a0530842d/ipyaladin-0.1.6.tar.gz (433kB)\n",
      "\u001b[K    100% |████████████████████████████████| 440kB 1.2MB/s \n",
      "\u001b[?25hRequirement already satisfied: ipywidgets>=6.0.0 in /opt/conda/lib/python3.7/site-packages (from ipyaladin) (7.4.2)\n",
      "Requirement already satisfied: ipython>=4.0.0; python_version >= \"3.3\" in /opt/conda/lib/python3.7/site-packages (from ipywidgets>=6.0.0->ipyaladin) (7.3.0)\n",
      "Requirement already satisfied: widgetsnbextension~=3.4.0 in /opt/conda/lib/python3.7/site-packages (from ipywidgets>=6.0.0->ipyaladin) (3.4.2)\n",
      "Requirement already satisfied: traitlets>=4.3.1 in /opt/conda/lib/python3.7/site-packages (from ipywidgets>=6.0.0->ipyaladin) (4.3.2)\n",
      "Requirement already satisfied: ipykernel>=4.5.1 in /opt/conda/lib/python3.7/site-packages (from ipywidgets>=6.0.0->ipyaladin) (5.1.0)\n",
      "Requirement already satisfied: nbformat>=4.2.0 in /opt/conda/lib/python3.7/site-packages (from ipywidgets>=6.0.0->ipyaladin) (4.4.0)\n",
      "Requirement already satisfied: setuptools>=18.5 in /opt/conda/lib/python3.7/site-packages (from ipython>=4.0.0; python_version >= \"3.3\"->ipywidgets>=6.0.0->ipyaladin) (40.8.0)\n",
      "Requirement already satisfied: jedi>=0.10 in /opt/conda/lib/python3.7/site-packages (from ipython>=4.0.0; python_version >= \"3.3\"->ipywidgets>=6.0.0->ipyaladin) (0.13.3)\n",
      "Requirement already satisfied: decorator in /opt/conda/lib/python3.7/site-packages (from ipython>=4.0.0; python_version >= \"3.3\"->ipywidgets>=6.0.0->ipyaladin) (4.3.2)\n",
      "Requirement already satisfied: pickleshare in /opt/conda/lib/python3.7/site-packages (from ipython>=4.0.0; python_version >= \"3.3\"->ipywidgets>=6.0.0->ipyaladin) (0.7.5)\n",
      "Requirement already satisfied: prompt_toolkit<2.1.0,>=2.0.0 in /opt/conda/lib/python3.7/site-packages (from ipython>=4.0.0; python_version >= \"3.3\"->ipywidgets>=6.0.0->ipyaladin) (2.0.9)\n",
      "Requirement already satisfied: pygments in /opt/conda/lib/python3.7/site-packages (from ipython>=4.0.0; python_version >= \"3.3\"->ipywidgets>=6.0.0->ipyaladin) (2.3.1)\n",
      "Requirement already satisfied: backcall in /opt/conda/lib/python3.7/site-packages (from ipython>=4.0.0; python_version >= \"3.3\"->ipywidgets>=6.0.0->ipyaladin) (0.1.0)\n",
      "Requirement already satisfied: pexpect in /opt/conda/lib/python3.7/site-packages (from ipython>=4.0.0; python_version >= \"3.3\"->ipywidgets>=6.0.0->ipyaladin) (4.6.0)\n",
      "Requirement already satisfied: notebook>=4.4.1 in /opt/conda/lib/python3.7/site-packages (from widgetsnbextension~=3.4.0->ipywidgets>=6.0.0->ipyaladin) (5.7.5)\n",
      "Requirement already satisfied: ipython_genutils in /opt/conda/lib/python3.7/site-packages (from traitlets>=4.3.1->ipywidgets>=6.0.0->ipyaladin) (0.2.0)\n",
      "Requirement already satisfied: six in /opt/conda/lib/python3.7/site-packages (from traitlets>=4.3.1->ipywidgets>=6.0.0->ipyaladin) (1.12.0)\n",
      "Requirement already satisfied: tornado>=4.2 in /opt/conda/lib/python3.7/site-packages (from ipykernel>=4.5.1->ipywidgets>=6.0.0->ipyaladin) (6.0.1)\n",
      "Requirement already satisfied: jupyter-client in /opt/conda/lib/python3.7/site-packages (from ipykernel>=4.5.1->ipywidgets>=6.0.0->ipyaladin) (5.2.4)\n",
      "Requirement already satisfied: jsonschema!=2.5.0,>=2.4 in /opt/conda/lib/python3.7/site-packages (from nbformat>=4.2.0->ipywidgets>=6.0.0->ipyaladin) (3.0.1)\n",
      "Requirement already satisfied: jupyter_core in /opt/conda/lib/python3.7/site-packages (from nbformat>=4.2.0->ipywidgets>=6.0.0->ipyaladin) (4.4.0)\n",
      "Requirement already satisfied: parso>=0.3.0 in /opt/conda/lib/python3.7/site-packages (from jedi>=0.10->ipython>=4.0.0; python_version >= \"3.3\"->ipywidgets>=6.0.0->ipyaladin) (0.3.4)\n",
      "Requirement already satisfied: wcwidth in /opt/conda/lib/python3.7/site-packages (from prompt_toolkit<2.1.0,>=2.0.0->ipython>=4.0.0; python_version >= \"3.3\"->ipywidgets>=6.0.0->ipyaladin) (0.1.7)\n",
      "Requirement already satisfied: ptyprocess>=0.5 in /opt/conda/lib/python3.7/site-packages (from pexpect->ipython>=4.0.0; python_version >= \"3.3\"->ipywidgets>=6.0.0->ipyaladin) (0.6.0)\n",
      "Requirement already satisfied: nbconvert in /opt/conda/lib/python3.7/site-packages (from notebook>=4.4.1->widgetsnbextension~=3.4.0->ipywidgets>=6.0.0->ipyaladin) (5.4.1)\n",
      "Requirement already satisfied: prometheus-client in /opt/conda/lib/python3.7/site-packages (from notebook>=4.4.1->widgetsnbextension~=3.4.0->ipywidgets>=6.0.0->ipyaladin) (0.6.0)\n",
      "Requirement already satisfied: Send2Trash in /opt/conda/lib/python3.7/site-packages (from notebook>=4.4.1->widgetsnbextension~=3.4.0->ipywidgets>=6.0.0->ipyaladin) (1.5.0)\n",
      "Requirement already satisfied: terminado>=0.8.1 in /opt/conda/lib/python3.7/site-packages (from notebook>=4.4.1->widgetsnbextension~=3.4.0->ipywidgets>=6.0.0->ipyaladin) (0.8.1)\n",
      "Requirement already satisfied: pyzmq>=17 in /opt/conda/lib/python3.7/site-packages (from notebook>=4.4.1->widgetsnbextension~=3.4.0->ipywidgets>=6.0.0->ipyaladin) (18.0.1)\n",
      "Requirement already satisfied: jinja2 in /opt/conda/lib/python3.7/site-packages (from notebook>=4.4.1->widgetsnbextension~=3.4.0->ipywidgets>=6.0.0->ipyaladin) (2.10)\n",
      "Requirement already satisfied: python-dateutil>=2.1 in /opt/conda/lib/python3.7/site-packages (from jupyter-client->ipykernel>=4.5.1->ipywidgets>=6.0.0->ipyaladin) (2.8.0)\n",
      "Requirement already satisfied: attrs>=17.4.0 in /opt/conda/lib/python3.7/site-packages (from jsonschema!=2.5.0,>=2.4->nbformat>=4.2.0->ipywidgets>=6.0.0->ipyaladin) (19.1.0)\n",
      "Requirement already satisfied: pyrsistent>=0.14.0 in /opt/conda/lib/python3.7/site-packages (from jsonschema!=2.5.0,>=2.4->nbformat>=4.2.0->ipywidgets>=6.0.0->ipyaladin) (0.14.11)\n",
      "Requirement already satisfied: mistune>=0.8.1 in /opt/conda/lib/python3.7/site-packages (from nbconvert->notebook>=4.4.1->widgetsnbextension~=3.4.0->ipywidgets>=6.0.0->ipyaladin) (0.8.4)\n",
      "Requirement already satisfied: entrypoints>=0.2.2 in /opt/conda/lib/python3.7/site-packages (from nbconvert->notebook>=4.4.1->widgetsnbextension~=3.4.0->ipywidgets>=6.0.0->ipyaladin) (0.3)\n",
      "Requirement already satisfied: bleach in /opt/conda/lib/python3.7/site-packages (from nbconvert->notebook>=4.4.1->widgetsnbextension~=3.4.0->ipywidgets>=6.0.0->ipyaladin) (3.1.0)\n",
      "Requirement already satisfied: pandocfilters>=1.4.1 in /opt/conda/lib/python3.7/site-packages (from nbconvert->notebook>=4.4.1->widgetsnbextension~=3.4.0->ipywidgets>=6.0.0->ipyaladin) (1.4.2)\n",
      "Requirement already satisfied: testpath in /opt/conda/lib/python3.7/site-packages (from nbconvert->notebook>=4.4.1->widgetsnbextension~=3.4.0->ipywidgets>=6.0.0->ipyaladin) (0.4.2)\n",
      "Requirement already satisfied: defusedxml in /opt/conda/lib/python3.7/site-packages (from nbconvert->notebook>=4.4.1->widgetsnbextension~=3.4.0->ipywidgets>=6.0.0->ipyaladin) (0.5.0)\n",
      "Requirement already satisfied: MarkupSafe>=0.23 in /opt/conda/lib/python3.7/site-packages (from jinja2->notebook>=4.4.1->widgetsnbextension~=3.4.0->ipywidgets>=6.0.0->ipyaladin) (1.1.1)\n",
      "Requirement already satisfied: webencodings in /opt/conda/lib/python3.7/site-packages (from bleach->nbconvert->notebook>=4.4.1->widgetsnbextension~=3.4.0->ipywidgets>=6.0.0->ipyaladin) (0.5.1)\n",
      "Building wheels for collected packages: ipyaladin\n",
      "  Building wheel for ipyaladin (setup.py) ... \u001b[?25ldone\n",
      "\u001b[?25h  Stored in directory: /home/jovyan/.cache/pip/wheels/32/71/be/3f9cbf8e186ffc7c3b81cdc3400f7c845f3c530260fac94e86\n",
      "Successfully built ipyaladin\n",
      "Installing collected packages: ipyaladin\n",
      "Successfully installed ipyaladin-0.1.6\n"
     ]
    }
   ],
   "source": [
    "!pip install ipyaladin"
   ]
  },
  {
   "cell_type": "code",
   "execution_count": 7,
   "metadata": {},
   "outputs": [
    {
     "name": "stdout",
     "output_type": "stream",
     "text": [
      "Collecting astroquery\n",
      "\u001b[?25l  Downloading https://files.pythonhosted.org/packages/4c/5b/ad7679d5ae9827ff2a4ab8e4670ef63a60ef47536b6c5a068295d2accc30/astroquery-0.3.10.dev5266.tar.gz (4.2MB)\n",
      "\u001b[K    100% |████████████████████████████████| 4.2MB 1.7MB/s \n",
      "\u001b[?25hRequirement already satisfied: astropy>=2.0 in /opt/conda/lib/python3.7/site-packages (from astroquery) (3.1.2)\n",
      "Requirement already satisfied: requests>=2.4.3 in /opt/conda/lib/python3.7/site-packages (from astroquery) (2.21.0)\n",
      "Collecting keyring>=4.0 (from astroquery)\n",
      "  Downloading https://files.pythonhosted.org/packages/a1/28/0058032477bfdf2003e605d175629963759220661615443e20711446bfa7/keyring-18.0.0-py2.py3-none-any.whl\n",
      "Collecting beautifulsoup4>=4.3.2 (from astroquery)\n",
      "\u001b[?25l  Downloading https://files.pythonhosted.org/packages/1d/5d/3260694a59df0ec52f8b4883f5d23b130bc237602a1411fa670eae12351e/beautifulsoup4-4.7.1-py3-none-any.whl (94kB)\n",
      "\u001b[K    100% |████████████████████████████████| 102kB 2.1MB/s \n",
      "\u001b[?25hCollecting html5lib>=0.999 (from astroquery)\n",
      "\u001b[?25l  Downloading https://files.pythonhosted.org/packages/a5/62/bbd2be0e7943ec8504b517e62bab011b4946e1258842bc159e5dfde15b96/html5lib-1.0.1-py2.py3-none-any.whl (117kB)\n",
      "\u001b[K    100% |████████████████████████████████| 122kB 3.2MB/s \n",
      "\u001b[?25hRequirement already satisfied: six in /opt/conda/lib/python3.7/site-packages (from astroquery) (1.12.0)\n",
      "Requirement already satisfied: numpy>=1.13.0 in /opt/conda/lib/python3.7/site-packages (from astropy>=2.0->astroquery) (1.16.0)\n",
      "Requirement already satisfied: chardet<3.1.0,>=3.0.2 in /opt/conda/lib/python3.7/site-packages (from requests>=2.4.3->astroquery) (3.0.4)\n",
      "Requirement already satisfied: certifi>=2017.4.17 in /opt/conda/lib/python3.7/site-packages (from requests>=2.4.3->astroquery) (2019.3.9)\n",
      "Requirement already satisfied: urllib3<1.25,>=1.21.1 in /opt/conda/lib/python3.7/site-packages (from requests>=2.4.3->astroquery) (1.24.1)\n",
      "Requirement already satisfied: idna<2.9,>=2.5 in /opt/conda/lib/python3.7/site-packages (from requests>=2.4.3->astroquery) (2.8)\n",
      "Collecting secretstorage; sys_platform == \"linux\" and python_version >= \"3.5\" (from keyring>=4.0->astroquery)\n",
      "  Downloading https://files.pythonhosted.org/packages/82/59/cb226752e20d83598d7fdcabd7819570b0329a61db07cfbdd21b2ef546e3/SecretStorage-3.1.1-py3-none-any.whl\n",
      "Requirement already satisfied: entrypoints in /opt/conda/lib/python3.7/site-packages (from keyring>=4.0->astroquery) (0.3)\n",
      "Collecting soupsieve>=1.2 (from beautifulsoup4>=4.3.2->astroquery)\n",
      "\u001b[?25l  Downloading https://files.pythonhosted.org/packages/77/78/bca00cc9fa70bba1226ee70a42bf375c4e048fe69066a0d9b5e69bc2a79a/soupsieve-1.8-py2.py3-none-any.whl (88kB)\n",
      "\u001b[K    100% |████████████████████████████████| 92kB 2.2MB/s \n",
      "\u001b[?25hRequirement already satisfied: webencodings in /opt/conda/lib/python3.7/site-packages (from html5lib>=0.999->astroquery) (0.5.1)\n",
      "Collecting jeepney (from secretstorage; sys_platform == \"linux\" and python_version >= \"3.5\"->keyring>=4.0->astroquery)\n",
      "\u001b[?25l  Downloading https://files.pythonhosted.org/packages/2b/f7/ff23b9b59534f501d47c327576aadda59da5b83d76ff837e6075bc325b9f/jeepney-0.4-py3-none-any.whl (59kB)\n",
      "\u001b[K    100% |████████████████████████████████| 61kB 2.1MB/s \n",
      "\u001b[?25hRequirement already satisfied: cryptography in /opt/conda/lib/python3.7/site-packages (from secretstorage; sys_platform == \"linux\" and python_version >= \"3.5\"->keyring>=4.0->astroquery) (2.6.1)\n",
      "Requirement already satisfied: asn1crypto>=0.21.0 in /opt/conda/lib/python3.7/site-packages (from cryptography->secretstorage; sys_platform == \"linux\" and python_version >= \"3.5\"->keyring>=4.0->astroquery) (0.24.0)\n",
      "Requirement already satisfied: cffi!=1.11.3,>=1.8 in /opt/conda/lib/python3.7/site-packages (from cryptography->secretstorage; sys_platform == \"linux\" and python_version >= \"3.5\"->keyring>=4.0->astroquery) (1.12.2)\n",
      "Requirement already satisfied: pycparser in /opt/conda/lib/python3.7/site-packages (from cffi!=1.11.3,>=1.8->cryptography->secretstorage; sys_platform == \"linux\" and python_version >= \"3.5\"->keyring>=4.0->astroquery) (2.19)\n",
      "Building wheels for collected packages: astroquery\n",
      "  Building wheel for astroquery (setup.py) ... \u001b[?25ldone\n",
      "\u001b[?25h  Stored in directory: /home/jovyan/.cache/pip/wheels/65/85/fb/9134f59e1a02b175d947f0f43486bb120b0d48b6b460adcb8f\n",
      "Successfully built astroquery\n",
      "Installing collected packages: jeepney, secretstorage, keyring, soupsieve, beautifulsoup4, html5lib, astroquery\n",
      "Successfully installed astroquery-0.3.10.dev0 beautifulsoup4-4.7.1 html5lib-1.0.1 jeepney-0.4 keyring-18.0.0 secretstorage-3.1.1 soupsieve-1.8\n"
     ]
    }
   ],
   "source": [
    "!pip install --pre astroquery"
   ]
  },
  {
   "cell_type": "code",
   "execution_count": null,
   "metadata": {},
   "outputs": [],
   "source": []
  }
 ],
 "metadata": {
  "kernelspec": {
   "display_name": "Python 3",
   "language": "python",
   "name": "python3"
  },
  "language_info": {
   "codemirror_mode": {
    "name": "ipython",
    "version": 3
   },
   "file_extension": ".py",
   "mimetype": "text/x-python",
   "name": "python",
   "nbconvert_exporter": "python",
   "pygments_lexer": "ipython3",
   "version": "3.7.1"
  }
 },
 "nbformat": 4,
 "nbformat_minor": 2
}
