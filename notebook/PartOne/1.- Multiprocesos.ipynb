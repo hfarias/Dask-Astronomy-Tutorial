{
 "cells": [
  {
   "cell_type": "markdown",
   "metadata": {},
   "source": [
    "# Multiprocessing"
   ]
  },
  {
   "cell_type": "markdown",
   "metadata": {},
   "source": [
    "**Pros**\n",
    "\n",
    "- Separate memory space\n",
    "- Code is usually straightforward\n",
    "- Takes advantage of multiple CPUs & cores\n",
    "- Avoids GIL limitations for cPython\n",
    "- Eliminates most needs for synchronization primitives unless if you use shared memory (instead, it's more of a communication model for IPC)\n",
    "- Child processes are interruptible/killable\n",
    "- Python multiprocessing module includes useful abstractions with an interface much like threading.Thread\n",
    "- A must with cPython for CPU-bound processing\n",
    "\n",
    "**Cons**\n",
    "\n",
    "- IPC a little more complicated with more overhead (communication model vs. shared memory/objects)\n",
    "- Larger memory footprint\n",
    "\n",
    "Source: https://stackoverflow.com/questions/3044580/multiprocessing-vs-threading-python"
   ]
  },
  {
   "cell_type": "code",
   "execution_count": 11,
   "metadata": {},
   "outputs": [
    {
     "data": {
      "text/plain": [
       "8"
      ]
     },
     "execution_count": 11,
     "metadata": {},
     "output_type": "execute_result"
    }
   ],
   "source": [
    "import multiprocessing\n",
    "import numpy as np\n",
    "multiprocessing.cpu_count()"
   ]
  },
  {
   "cell_type": "markdown",
   "metadata": {},
   "source": [
    "Tienes 4 núcleos físicos, pero 8 procesadores lógicos. Porque en este caso tengo un procesador con hyper-threading."
   ]
  },
  {
   "cell_type": "code",
   "execution_count": 2,
   "metadata": {},
   "outputs": [
    {
     "name": "stdout",
     "output_type": "stream",
     "text": [
      "CPU times: user 921 µs, sys: 1.36 ms, total: 2.28 ms\n",
      "Wall time: 8.02 s\n"
     ]
    }
   ],
   "source": [
    "%%time\n",
    "#Codigo secuencial\n",
    "from time import sleep\n",
    "\n",
    "resultado = []\n",
    "\n",
    "for i in range(8):\n",
    "    sleep(1)\n",
    "    resultado.append(i+1)"
   ]
  },
  {
   "cell_type": "code",
   "execution_count": 3,
   "metadata": {},
   "outputs": [
    {
     "name": "stdout",
     "output_type": "stream",
     "text": [
      "CPU times: user 20.9 ms, sys: 27.5 ms, total: 48.4 ms\n",
      "Wall time: 1.05 s\n"
     ]
    }
   ],
   "source": [
    "%%time\n",
    "\n",
    "from concurrent.futures import ProcessPoolExecutor\n",
    "e = ProcessPoolExecutor()\n",
    "\n",
    "def incrementar(x):\n",
    "    sleep(1)\n",
    "    return x + 1\n",
    "\n",
    "resultado = list(e.map(incrementar,range(8)))"
   ]
  },
  {
   "cell_type": "code",
   "execution_count": 4,
   "metadata": {},
   "outputs": [
    {
     "data": {
      "text/plain": [
       "8"
      ]
     },
     "execution_count": 4,
     "metadata": {},
     "output_type": "execute_result"
    }
   ],
   "source": [
    "multiprocessing.cpu_count()"
   ]
  },
  {
   "cell_type": "markdown",
   "metadata": {},
   "source": [
    "###  Ejemplo1: Establecer comunicación entre procesos mediante la creación de un canal de comunicación\n",
    "----\n"
   ]
  },
  {
   "cell_type": "code",
   "execution_count": 5,
   "metadata": {},
   "outputs": [],
   "source": [
    "import os, random\n",
    "from multiprocessing import Process, Pipe"
   ]
  },
  {
   "cell_type": "code",
   "execution_count": 6,
   "metadata": {},
   "outputs": [],
   "source": [
    "def creador_valores(conn):\n",
    "       value = random.randint(1, 10)\n",
    "       conn.send(value)\n",
    "       print('Valor [%d] enviado por el proceso PID [%d]' % (value, os.getpid()))\n",
    "       conn.close()"
   ]
  },
  {
   "cell_type": "code",
   "execution_count": 7,
   "metadata": {},
   "outputs": [],
   "source": [
    "def consumidor_valores(conn):\n",
    "       print('Valor [%d] recibido por el proceso PID [%d]' % (conn.recv(),\n",
    "       os.getpid()))"
   ]
  },
  {
   "cell_type": "code",
   "execution_count": 8,
   "metadata": {},
   "outputs": [],
   "source": [
    "producer_conn, consumer_conn = Pipe()\n",
    "consumer = Process(target=consumidor_valores,args=(consumer_conn,))\n",
    "producer = Process(target=creador_valores,args=(producer_conn,))"
   ]
  },
  {
   "cell_type": "code",
   "execution_count": 9,
   "metadata": {},
   "outputs": [
    {
     "name": "stdout",
     "output_type": "stream",
     "text": [
      "Valor [6] enviado por el proceso PID [13258]\n",
      "Valor [6] recibido por el proceso PID [13257]\n"
     ]
    }
   ],
   "source": [
    "consumer.start()\n",
    "producer.start()\n",
    "consumer.join()\n",
    "producer.join()"
   ]
  },
  {
   "cell_type": "markdown",
   "metadata": {},
   "source": [
    "### Ejercicio: Crear una función paralela que cree 100 archivos CSV con procesos\n",
    "----\n",
    "\n",
    "Función serial que resuelve el problema"
   ]
  },
  {
   "cell_type": "code",
   "execution_count": 13,
   "metadata": {},
   "outputs": [
    {
     "name": "stdout",
     "output_type": "stream",
     "text": [
      "CPU times: user 14.5 s, sys: 561 ms, total: 15.1 s\n",
      "Wall time: 15.1 s\n"
     ]
    }
   ],
   "source": [
    "%%time\n",
    "np.random.seed(123)\n",
    "x = np.random.poisson(100,(1000,1000))\n",
    "for i_ in range(0, 100):\n",
    "    np.savetxt('data_serial/x%06d.csv' % i_, x, delimiter=',', fmt='%d')"
   ]
  },
  {
   "cell_type": "markdown",
   "metadata": {},
   "source": [
    "### Crear la función paralela que resuelve el problema."
   ]
  },
  {
   "cell_type": "code",
   "execution_count": 14,
   "metadata": {},
   "outputs": [
    {
     "name": "stdout",
     "output_type": "stream",
     "text": [
      "CPU times: user 41.2 ms, sys: 34.5 ms, total: 75.7 ms\n",
      "Wall time: 1.35 s\n"
     ]
    }
   ],
   "source": [
    "%%time\n",
    "\n",
    "def crear_csv(i):\n",
    "    x = np.random.poisson(100,(1000,1000))\n",
    "    np.savetxt('data_paralelo/x%06d.csv' % i, x, delimiter=',', fmt='%d')\n",
    "    \n",
    "\n",
    "np.random.seed(123)\n",
    "with ProcessPoolExecutor() as pool:\n",
    "    pool.map(crear_csv, range(100))"
   ]
  },
  {
   "cell_type": "markdown",
   "metadata": {},
   "source": [
    "### Referencias\n",
    "---\n",
    "\n",
    "https://github.com/rsnemmen/parallel-python-tutorial/blob/master/Parallel%20Computing%20with%20Python%20public.ipynb\n",
    "\n",
    "https://github.com/rsnemmen/parallel-python-tutorial\n",
    "\n",
    "https://github.com/dask/dask-tutorial\n",
    "\n",
    "https://docs.python.org/3/library/concurrent.futures.html"
   ]
  },
  {
   "cell_type": "code",
   "execution_count": null,
   "metadata": {
    "collapsed": true
   },
   "outputs": [],
   "source": []
  }
 ],
 "metadata": {
  "kernelspec": {
   "display_name": "Python 3",
   "language": "python",
   "name": "python3"
  },
  "language_info": {
   "codemirror_mode": {
    "name": "ipython",
    "version": 3
   },
   "file_extension": ".py",
   "mimetype": "text/x-python",
   "name": "python",
   "nbconvert_exporter": "python",
   "pygments_lexer": "ipython3",
   "version": "3.7.2"
  }
 },
 "nbformat": 4,
 "nbformat_minor": 2
}
