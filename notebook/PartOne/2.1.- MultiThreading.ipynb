{
 "cells": [
  {
   "cell_type": "markdown",
   "metadata": {},
   "source": [
    "### Threading\n",
    "---\n",
    "\n",
    "**Pros**\n",
    "\n",
    "- Lightweight - low memory footprint\n",
    "- Shared memory - makes access to state from another context easier\n",
    "- Allows you to easily make responsive UIs\n",
    "- cPython C extension modules that properly release the GIL will run in parallel\n",
    "- Great option for I/O-bound applications\n",
    "\n",
    "**Cons**\n",
    "\n",
    "- cPython - subject to the GIL\n",
    "- Not interruptible/killable\n",
    "- If not following a command queue/message pump model (using the Queue module), then manual use of synchronization primitives become a necessity (decisions are needed for the granularity of locking)\n",
    "- Code is usually harder to understand and to get right - the potential for race conditions increases dramatically\n",
    "\n",
    "Source: https://stackoverflow.com/questions/3044580/multiprocessing-vs-threading-python"
   ]
  },
  {
   "cell_type": "markdown",
   "metadata": {},
   "source": [
    "### Ejemplo1: Establecer comunicación entre procesos mediante la creación de un canal de comunicación\n",
    "----\n",
    "\n"
   ]
  },
  {
   "cell_type": "code",
   "execution_count": 1,
   "metadata": {},
   "outputs": [
    {
     "name": "stdout",
     "output_type": "stream",
     "text": [
      "'http://www.foxnews.com/' page is 238856 bytes\n",
      "'http://www.userena.digital/' page is 37380 bytes\n",
      "'http://www.cnn.com/' page is 1894247 bytes\n",
      "'http://www.bbc.co.uk/' page is 329359 bytes\n",
      "'http://europe.wsj.com/' page is 992863 bytes\n"
     ]
    }
   ],
   "source": [
    "import concurrent.futures\n",
    "import urllib.request\n",
    "\n",
    "URLS = ['http://www.foxnews.com/',\n",
    "        'http://www.cnn.com/',\n",
    "        'http://europe.wsj.com/',\n",
    "        'http://www.bbc.co.uk/',\n",
    "        'http://www.userena.digital/']\n",
    "\n",
    "# Retrieve a single page and report the URL and contents\n",
    "def load_url(url, timeout):\n",
    "    with urllib.request.urlopen(url, timeout=timeout) as conn:\n",
    "        return conn.read()\n",
    "\n",
    "# We can use a with statement to ensure threads are cleaned up promptly\n",
    "with concurrent.futures.ThreadPoolExecutor(max_workers=6) as executor:\n",
    "    # Start the load operations and mark each future with its URL\n",
    "    future_to_url = {executor.submit(load_url, url, 60): url for url in URLS}\n",
    "    for future in concurrent.futures.as_completed(future_to_url):\n",
    "        url = future_to_url[future]\n",
    "        try:\n",
    "            data = future.result()\n",
    "        except Exception as exc:\n",
    "            print('%r generated an exception: %s' % (url, exc))\n",
    "        else:\n",
    "            print('%r page is %d bytes' % (url, len(data)))"
   ]
  },
  {
   "cell_type": "markdown",
   "metadata": {},
   "source": [
    "### Ejemplo 2: Consultas VO\n",
    "----\n",
    "\n"
   ]
  },
  {
   "cell_type": "code",
   "execution_count": 2,
   "metadata": {},
   "outputs": [],
   "source": [
    "import pyvo as vo\n",
    "import concurrent.futures\n",
    "import urllib.request\n",
    "from concurrent.futures import ThreadPoolExecutor"
   ]
  },
  {
   "cell_type": "code",
   "execution_count": 3,
   "metadata": {},
   "outputs": [],
   "source": [
    "URLS = ['http://www.cadc-ccda.hia-iha.nrc-cnrc.gc.ca/tap',\n",
    "        'http://reg.g-vo.org/tap',\n",
    "        'http://dc.g-vo.org/tap',\n",
    "        'http://dc.zah.uni-heidelberg.de/tap',\n",
    "       'https://vo.chivo.cl/tap']"
   ]
  },
  {
   "cell_type": "code",
   "execution_count": 4,
   "metadata": {},
   "outputs": [],
   "source": [
    "url = \"https://vo.chivo.cl/tap\"\n",
    "service = vo.dal.TAPService(url)"
   ]
  },
  {
   "cell_type": "code",
   "execution_count": 5,
   "metadata": {},
   "outputs": [
    {
     "name": "stdout",
     "output_type": "stream",
     "text": [
      "Url = http://www.cadc-ccda.hia-iha.nrc-cnrc.gc.ca/tap Disponible = TrueTimeup =None\n",
      "Url = http://reg.g-vo.org/tap Disponible = TrueTimeup =2019-03-14T15:18:19Z\n",
      "Url = http://dc.g-vo.org/tap Disponible = TrueTimeup =2019-03-14T15:18:19Z\n",
      "Url = http://dc.zah.uni-heidelberg.de/tap Disponible = TrueTimeup =2019-03-14T15:18:19Z\n",
      "Url = https://vo.chivo.cl/tap Disponible = TrueTimeup =2018-12-23T16:53:15Z\n",
      "CPU times: user 37.6 ms, sys: 9.63 ms, total: 47.2 ms\n",
      "Wall time: 3.05 s\n"
     ]
    }
   ],
   "source": [
    "%%time\n",
    "for url in URLS:\n",
    "    service = vo.dal.TAPService(url)\n",
    "    print(\"Url = \"+url+\" Disponible = \"+str(service.available)+\"Timeup =\"+str(service.up_since))"
   ]
  },
  {
   "cell_type": "code",
   "execution_count": 6,
   "metadata": {},
   "outputs": [],
   "source": [
    "def vo_tap(url):\n",
    "    service = vo.dal.TAPService(url)\n",
    "    print(\"Url = \"+url+\" Disponible = \"+str(service.available)+\"Timeup =\"+str(service.up_since))\n",
    "    return(service.available)"
   ]
  },
  {
   "cell_type": "code",
   "execution_count": 7,
   "metadata": {},
   "outputs": [
    {
     "name": "stdout",
     "output_type": "stream",
     "text": [
      "Url = https://vo.chivo.cl/tap Disponible = TrueTimeup =2018-12-23T16:53:15Z\n",
      "Url = http://www.cadc-ccda.hia-iha.nrc-cnrc.gc.ca/tap Disponible = TrueTimeup =None\n",
      "Url = http://reg.g-vo.org/tap Disponible = TrueTimeup =2019-03-14T15:18:19Z\n",
      "Url = http://dc.g-vo.org/tap Disponible = TrueTimeup =2019-03-14T15:18:19Z\n",
      "Url = http://dc.zah.uni-heidelberg.de/tap Disponible = TrueTimeup =2019-03-14T15:18:19Z\n",
      "CPU times: user 37.4 ms, sys: 6.84 ms, total: 44.3 ms\n",
      "Wall time: 2.79 s\n"
     ]
    }
   ],
   "source": [
    "%%time\n",
    "executor = ThreadPoolExecutor(max_workers=5)\n",
    "\n",
    "task1 = executor.submit(vo_tap(\"https://vo.chivo.cl/tap\"))\n",
    "task2 = executor.submit(vo_tap(\"http://www.cadc-ccda.hia-iha.nrc-cnrc.gc.ca/tap\"))\n",
    "task3 = executor.submit(vo_tap(\"http://reg.g-vo.org/tap\"))\n",
    "task4 = executor.submit(vo_tap(\"http://dc.g-vo.org/tap\"))\n",
    "task5 = executor.submit(vo_tap(\"http://dc.zah.uni-heidelberg.de/tap\"))"
   ]
  },
  {
   "cell_type": "code",
   "execution_count": 8,
   "metadata": {},
   "outputs": [
    {
     "name": "stdout",
     "output_type": "stream",
     "text": [
      "Url = https://vo.chivo.cl/tap Disponible = TrueTimeup =2018-12-23T16:53:15Z\n",
      "Url = http://dc.zah.uni-heidelberg.de/tap Disponible = TrueTimeup =2019-03-14T15:18:19Z\n",
      "Url = http://reg.g-vo.org/tap Disponible = TrueTimeup =2019-03-14T15:18:19Z\n",
      "Url = http://dc.g-vo.org/tap Disponible = TrueTimeup =2019-03-14T15:18:19Z\n",
      "Url = http://www.cadc-ccda.hia-iha.nrc-cnrc.gc.ca/tap Disponible = TrueTimeup =None\n",
      "CPU times: user 31.8 ms, sys: 7.12 ms, total: 38.9 ms\n",
      "Wall time: 623 ms\n"
     ]
    }
   ],
   "source": [
    "%%time\n",
    "future_to_url = {executor.submit(vo_tap, url): url for url in URLS}\n",
    "for future in concurrent.futures.as_completed(future_to_url):\n",
    "        url = future_to_url[future]"
   ]
  },
  {
   "cell_type": "code",
   "execution_count": 9,
   "metadata": {},
   "outputs": [
    {
     "name": "stdout",
     "output_type": "stream",
     "text": [
      "Url = https://vo.chivo.cl/tap Disponible = TrueTimeup =2018-12-23T16:53:15Z\n",
      "Url = http://reg.g-vo.org/tap Disponible = TrueTimeup =2019-03-14T15:18:19Z\n",
      "Url = http://dc.zah.uni-heidelberg.de/tap Disponible = TrueTimeup =2019-03-14T15:18:19Z\n",
      "Url = http://dc.g-vo.org/tap Disponible = TrueTimeup =2019-03-14T15:18:19Z\n",
      "Url = http://www.cadc-ccda.hia-iha.nrc-cnrc.gc.ca/tap Disponible = TrueTimeup =None\n"
     ]
    }
   ],
   "source": [
    "for url in URLS:\n",
    "    future_to_url = executor.submit(vo_tap, url)"
   ]
  },
  {
   "cell_type": "markdown",
   "metadata": {},
   "source": [
    "### Referencias\n",
    "---\n",
    "\n",
    "https://github.com/rsnemmen/parallel-python-tutorial/blob/master/Parallel%20Computing%20with%20Python%20public.ipynb\n",
    "\n",
    "https://github.com/rsnemmen/parallel-python-tutorial\n",
    "\n",
    "https://github.com/dask/dask-tutorial\n",
    "\n",
    "https://docs.python.org/3/library/concurrent.futures.html"
   ]
  },
  {
   "cell_type": "code",
   "execution_count": null,
   "metadata": {
    "collapsed": true
   },
   "outputs": [],
   "source": []
  }
 ],
 "metadata": {
  "kernelspec": {
   "display_name": "Python 3",
   "language": "python",
   "name": "python3"
  },
  "language_info": {
   "codemirror_mode": {
    "name": "ipython",
    "version": 3
   },
   "file_extension": ".py",
   "mimetype": "text/x-python",
   "name": "python",
   "nbconvert_exporter": "python",
   "pygments_lexer": "ipython3",
   "version": "3.7.2"
  }
 },
 "nbformat": 4,
 "nbformat_minor": 2
}
